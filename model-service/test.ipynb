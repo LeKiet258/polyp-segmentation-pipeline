{
 "cells": [
  {
   "cell_type": "code",
   "execution_count": 12,
   "metadata": {},
   "outputs": [
    {
     "data": {
      "text/plain": [
       "True"
      ]
     },
     "execution_count": 12,
     "metadata": {},
     "output_type": "execute_result"
    }
   ],
   "source": [
    "import os\n",
    "path = \"/home/kietl/final-m1/model-service/FCBFormer/pvt_v2_b3.pth\"\n",
    "os.path.exists(path)"
   ]
  },
  {
   "cell_type": "code",
   "execution_count": 1,
   "metadata": {},
   "outputs": [],
   "source": [
    "import os\n",
    "from PIL import Image\n",
    "import io\n",
    "\n",
    "input_path = './data/ETIS/images/1.png'\n",
    "\n",
    "with open(input_path, 'rb') as f:\n",
    "    contents = f.read()\n",
    "    image = Image.open(io.BytesIO(contents))"
   ]
  },
  {
   "cell_type": "code",
   "execution_count": 4,
   "metadata": {},
   "outputs": [],
   "source": [
    "import time\n",
    "\n",
    "timestamp = int(time.time())\n",
    "\n",
    "# Create the target directory: test-{timestamp}/images\n",
    "par_dir = f'test/test-{timestamp}'\n",
    "images_dir = f'{par_dir}/images'\n",
    "os.makedirs(images_dir, exist_ok=True)\n",
    "os.makedirs(f'{par_dir}/masks', exist_ok=True)\n",
    "\n",
    "# Define the output path where the image will be saved\n",
    "output_path = os.path.join(images_dir, 'input.png')\n",
    "\n",
    "# Save the image to the output path in PNG format\n",
    "image.save(output_path, format='PNG')"
   ]
  },
  {
   "cell_type": "code",
   "execution_count": 7,
   "metadata": {},
   "outputs": [],
   "source": [
    "from types import SimpleNamespace\n",
    "\n",
    "# Simulate args as a dictionary and convert it to object-like access\n",
    "args = SimpleNamespace(a=1, b=2)"
   ]
  },
  {
   "cell_type": "code",
   "execution_count": 8,
   "metadata": {},
   "outputs": [
    {
     "data": {
      "text/plain": [
       "1"
      ]
     },
     "execution_count": 8,
     "metadata": {},
     "output_type": "execute_result"
    }
   ],
   "source": [
    "args.a"
   ]
  }
 ],
 "metadata": {
  "kernelspec": {
   "display_name": "fcbformer",
   "language": "python",
   "name": "python3"
  },
  "language_info": {
   "codemirror_mode": {
    "name": "ipython",
    "version": 3
   },
   "file_extension": ".py",
   "mimetype": "text/x-python",
   "name": "python",
   "nbconvert_exporter": "python",
   "pygments_lexer": "ipython3",
   "version": "3.10.15"
  }
 },
 "nbformat": 4,
 "nbformat_minor": 2
}
