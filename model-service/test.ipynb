{
 "cells": [
  {
   "cell_type": "code",
   "execution_count": 7,
   "metadata": {},
   "outputs": [
    {
     "name": "stdout",
     "output_type": "stream",
     "text": [
      "project\n"
     ]
    }
   ],
   "source": [
    "import os\n",
    "\n",
    "# Given path\n",
    "path = 'project/file.txt'\n",
    "\n",
    "# Split the path components\n",
    "components = path.strip(os.sep).split(os.sep)\n",
    "\n",
    "# Get the first component, which is 'home'\n",
    "first_parent = components[0]\n",
    "\n",
    "print(first_parent)\n"
   ]
  }
 ],
 "metadata": {
  "kernelspec": {
   "display_name": "fcbformer",
   "language": "python",
   "name": "python3"
  },
  "language_info": {
   "codemirror_mode": {
    "name": "ipython",
    "version": 3
   },
   "file_extension": ".py",
   "mimetype": "text/x-python",
   "name": "python",
   "nbconvert_exporter": "python",
   "pygments_lexer": "ipython3",
   "version": "3.10.15"
  }
 },
 "nbformat": 4,
 "nbformat_minor": 2
}
